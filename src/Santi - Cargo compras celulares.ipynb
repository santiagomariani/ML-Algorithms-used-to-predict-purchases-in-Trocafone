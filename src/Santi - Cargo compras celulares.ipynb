{
 "cells": [
  {
   "cell_type": "code",
   "execution_count": 1,
   "metadata": {},
   "outputs": [],
   "source": [
    "import pandas as pd  \n",
    "import numpy as np  \n",
    "import matplotlib.pyplot as plt \n",
    "%matplotlib inline\n",
    "\n",
    "from datetime import timedelta\n",
    "\n",
    "from sklearn.model_selection import train_test_split, StratifiedKFold, KFold, cross_val_score, cross_val_predict\n",
    "from sklearn.metrics import accuracy_score, roc_auc_score, mean_squared_error, confusion_matrix,\\\n",
    "                            f1_score,precision_score,recall_score,classification_report,cohen_kappa_score\n",
    "                                                            \n",
    "import xgboost as xgb\n",
    "from sklearn import preprocessing\n",
    "from sklearn.feature_selection import RFE, SelectKBest, chi2"
   ]
  },
  {
   "cell_type": "code",
   "execution_count": 2,
   "metadata": {},
   "outputs": [
    {
     "name": "stderr",
     "output_type": "stream",
     "text": [
      "b'Skipping line 821: expected 40 fields, saw 41\\nSkipping line 6060: expected 40 fields, saw 41\\nSkipping line 6663: expected 40 fields, saw 41\\n'\n"
     ]
    }
   ],
   "source": [
    "df_phone = pd.read_csv(\"phone_dataset .csv\", error_bad_lines=False)"
   ]
  },
  {
   "cell_type": "code",
   "execution_count": 3,
   "metadata": {},
   "outputs": [],
   "source": [
    "df_phone = df_phone[['brand','model','approx_price_EUR']].drop_duplicates().dropna()"
   ]
  },
  {
   "cell_type": "code",
   "execution_count": 4,
   "metadata": {},
   "outputs": [],
   "source": [
    "df_phone['model'] = df_phone['model'].str.lower()\n",
    "df_phone['brand'] = df_phone['brand'].str.lower()\n",
    "df_phone.drop_duplicates('model', inplace = True)"
   ]
  },
  {
   "cell_type": "code",
   "execution_count": 5,
   "metadata": {
    "scrolled": false
   },
   "outputs": [
    {
     "data": {
      "text/html": [
       "<div>\n",
       "<style scoped>\n",
       "    .dataframe tbody tr th:only-of-type {\n",
       "        vertical-align: middle;\n",
       "    }\n",
       "\n",
       "    .dataframe tbody tr th {\n",
       "        vertical-align: top;\n",
       "    }\n",
       "\n",
       "    .dataframe thead th {\n",
       "        text-align: right;\n",
       "    }\n",
       "</style>\n",
       "<table border=\"1\" class=\"dataframe\">\n",
       "  <thead>\n",
       "    <tr style=\"text-align: right;\">\n",
       "      <th></th>\n",
       "      <th>brand</th>\n",
       "      <th>model</th>\n",
       "      <th>approx_price_EUR</th>\n",
       "    </tr>\n",
       "  </thead>\n",
       "  <tbody>\n",
       "    <tr>\n",
       "      <th>0</th>\n",
       "      <td>acer</td>\n",
       "      <td>iconia talk s</td>\n",
       "      <td>170.0</td>\n",
       "    </tr>\n",
       "    <tr>\n",
       "      <th>1</th>\n",
       "      <td>acer</td>\n",
       "      <td>liquid z6 plus</td>\n",
       "      <td>250.0</td>\n",
       "    </tr>\n",
       "    <tr>\n",
       "      <th>2</th>\n",
       "      <td>acer</td>\n",
       "      <td>liquid z6</td>\n",
       "      <td>120.0</td>\n",
       "    </tr>\n",
       "    <tr>\n",
       "      <th>3</th>\n",
       "      <td>acer</td>\n",
       "      <td>iconia tab 10 a3-a40</td>\n",
       "      <td>230.0</td>\n",
       "    </tr>\n",
       "    <tr>\n",
       "      <th>4</th>\n",
       "      <td>acer</td>\n",
       "      <td>liquid x2</td>\n",
       "      <td>230.0</td>\n",
       "    </tr>\n",
       "  </tbody>\n",
       "</table>\n",
       "</div>"
      ],
      "text/plain": [
       "  brand                 model  approx_price_EUR\n",
       "0  acer         iconia talk s             170.0\n",
       "1  acer        liquid z6 plus             250.0\n",
       "2  acer             liquid z6             120.0\n",
       "3  acer  iconia tab 10 a3-a40             230.0\n",
       "4  acer             liquid x2             230.0"
      ]
     },
     "execution_count": 5,
     "metadata": {},
     "output_type": "execute_result"
    }
   ],
   "source": [
    "df_phone.head()"
   ]
  },
  {
   "cell_type": "code",
   "execution_count": 6,
   "metadata": {},
   "outputs": [],
   "source": [
    "df_phone['model'] = df_phone['brand'] + ' ' + df_phone['model']"
   ]
  },
  {
   "cell_type": "code",
   "execution_count": 7,
   "metadata": {},
   "outputs": [],
   "source": [
    "df_phone = df_phone[['model','approx_price_EUR']]"
   ]
  },
  {
   "cell_type": "code",
   "execution_count": 8,
   "metadata": {
    "scrolled": true
   },
   "outputs": [
    {
     "data": {
      "text/html": [
       "<div>\n",
       "<style scoped>\n",
       "    .dataframe tbody tr th:only-of-type {\n",
       "        vertical-align: middle;\n",
       "    }\n",
       "\n",
       "    .dataframe tbody tr th {\n",
       "        vertical-align: top;\n",
       "    }\n",
       "\n",
       "    .dataframe thead th {\n",
       "        text-align: right;\n",
       "    }\n",
       "</style>\n",
       "<table border=\"1\" class=\"dataframe\">\n",
       "  <thead>\n",
       "    <tr style=\"text-align: right;\">\n",
       "      <th></th>\n",
       "      <th>model</th>\n",
       "      <th>approx_price_EUR</th>\n",
       "    </tr>\n",
       "  </thead>\n",
       "  <tbody>\n",
       "    <tr>\n",
       "      <th>0</th>\n",
       "      <td>acer iconia talk s</td>\n",
       "      <td>170.0</td>\n",
       "    </tr>\n",
       "    <tr>\n",
       "      <th>1</th>\n",
       "      <td>acer liquid z6 plus</td>\n",
       "      <td>250.0</td>\n",
       "    </tr>\n",
       "    <tr>\n",
       "      <th>2</th>\n",
       "      <td>acer liquid z6</td>\n",
       "      <td>120.0</td>\n",
       "    </tr>\n",
       "    <tr>\n",
       "      <th>3</th>\n",
       "      <td>acer iconia tab 10 a3-a40</td>\n",
       "      <td>230.0</td>\n",
       "    </tr>\n",
       "    <tr>\n",
       "      <th>4</th>\n",
       "      <td>acer liquid x2</td>\n",
       "      <td>230.0</td>\n",
       "    </tr>\n",
       "  </tbody>\n",
       "</table>\n",
       "</div>"
      ],
      "text/plain": [
       "                       model  approx_price_EUR\n",
       "0         acer iconia talk s             170.0\n",
       "1        acer liquid z6 plus             250.0\n",
       "2             acer liquid z6             120.0\n",
       "3  acer iconia tab 10 a3-a40             230.0\n",
       "4             acer liquid x2             230.0"
      ]
     },
     "execution_count": 8,
     "metadata": {},
     "output_type": "execute_result"
    }
   ],
   "source": [
    "df_phone.head()"
   ]
  },
  {
   "cell_type": "code",
   "execution_count": 9,
   "metadata": {
    "scrolled": false
   },
   "outputs": [
    {
     "name": "stderr",
     "output_type": "stream",
     "text": [
      "/home/santi/anaconda3/lib/python3.6/site-packages/IPython/core/interactiveshell.py:2785: DtypeWarning: Columns (3,5,6,7,8,9,10,11,12,13,14,15,16,17,18,19,20,21,22) have mixed types. Specify dtype option on import or set low_memory=False.\n",
      "  interactivity=interactivity, compiler=compiler, result=result)\n"
     ]
    }
   ],
   "source": [
    "df_events = pd.read_csv('../../data/events_up_to_01062018.csv')"
   ]
  },
  {
   "cell_type": "code",
   "execution_count": 50,
   "metadata": {},
   "outputs": [],
   "source": [
    "df_todas_las_personas = df_events[['person']].drop_duplicates()"
   ]
  },
  {
   "cell_type": "code",
   "execution_count": 24,
   "metadata": {},
   "outputs": [],
   "source": [
    "df_events2 = df_events[df_events['event'] == 'viewed product']\n",
    "df_events2 = df_events2[['model']]"
   ]
  },
  {
   "cell_type": "code",
   "execution_count": 25,
   "metadata": {
    "scrolled": true
   },
   "outputs": [],
   "source": [
    "df_events2['model'] = df_events2['model'].str.lower()"
   ]
  },
  {
   "cell_type": "code",
   "execution_count": 26,
   "metadata": {},
   "outputs": [],
   "source": [
    "df_events2 = df_events2.drop_duplicates('model')"
   ]
  },
  {
   "cell_type": "code",
   "execution_count": 27,
   "metadata": {},
   "outputs": [
    {
     "data": {
      "text/plain": [
       "(199, 1)"
      ]
     },
     "execution_count": 27,
     "metadata": {},
     "output_type": "execute_result"
    }
   ],
   "source": [
    "df_events2.shape"
   ]
  },
  {
   "cell_type": "code",
   "execution_count": 28,
   "metadata": {},
   "outputs": [],
   "source": [
    "def agregarApple(s):\n",
    "    if('iphone' in s):\n",
    "        return 'apple '+s\n",
    "    return s\n",
    "\n",
    "def borrarApple(s):\n",
    "    if('apple 'in s):\n",
    "        return s[6:]\n",
    "    return s"
   ]
  },
  {
   "cell_type": "code",
   "execution_count": 29,
   "metadata": {},
   "outputs": [],
   "source": [
    "df_events2['model'] = df_events2['model'].apply(agregarApple)"
   ]
  },
  {
   "cell_type": "code",
   "execution_count": 30,
   "metadata": {},
   "outputs": [
    {
     "data": {
      "text/plain": [
       "htc desire 700 dual sim         1\n",
       "sony smartwatch 2 sw2           1\n",
       "samsung a886 forever            1\n",
       "nokia 6303 classic              1\n",
       "lenovo s580                     1\n",
       "nokia n80                       1\n",
       "samsung p6800 galaxy tab 7.7    1\n",
       "leeco le 2                      1\n",
       "samsung galaxy s5 (usa)         1\n",
       "zte nubia z17 mini              1\n",
       "samsung galaxy grand prime      1\n",
       "micromax x288                   1\n",
       "lg stylus 2 plus                1\n",
       "samsung u100                    1\n",
       "motorola motoluxe xt389         1\n",
       "micromax x450                   1\n",
       "htc advantage x7500             1\n",
       "nokia xl                        1\n",
       "lg cookie lite t300             1\n",
       "allview e4                      1\n",
       "spice mi-720                    1\n",
       "sony smartwatch 3 swr50         1\n",
       "huawei ideos s7 slim cdma       1\n",
       "samsung i400                    1\n",
       "samsung i8530 galaxy beam       1\n",
       "blackberry classic              1\n",
       "lenovo tab3 10                  1\n",
       "leeco le pro3                   1\n",
       "htc rhyme                       1\n",
       "xolo q2500                      1\n",
       "                               ..\n",
       "lg kc560                        1\n",
       "lg trax cu575                   1\n",
       "blu studio energy               1\n",
       "samsung sch-w699                1\n",
       "samsung galaxy tab s3 9.7       1\n",
       "cat b100                        1\n",
       "micromax x395                   1\n",
       "sony ericsson w660              1\n",
       "asus zenfone 5 a500cg           1\n",
       "acer liquid jade z              1\n",
       "samsung s7230e wave 723         1\n",
       "lenovo a6000 plus               1\n",
       "zte blade l110                  1\n",
       "zte axon lux                    1\n",
       "htc p3400                       1\n",
       "zte v5 lux                      1\n",
       "htc one m8s                     1\n",
       "apple iphone 4 cdma             1\n",
       "apple iphone 4                  1\n",
       "sony ericsson w950              1\n",
       "htc panache                     1\n",
       "htc rezound                     1\n",
       "htc thunderbolt 4g              1\n",
       "nokia 5610 xpressmusic          1\n",
       "htc raider 4g                   1\n",
       "htc velocity 4g vodafone        1\n",
       "sony ericsson xperia mini       1\n",
       "allview x3 soul                 1\n",
       "lg ke820                        1\n",
       "xiaomi mi 5                     1\n",
       "Name: model, Length: 4932, dtype: int64"
      ]
     },
     "execution_count": 30,
     "metadata": {},
     "output_type": "execute_result"
    }
   ],
   "source": [
    "df_phone['model'].value_counts()"
   ]
  },
  {
   "cell_type": "code",
   "execution_count": 31,
   "metadata": {},
   "outputs": [
    {
     "data": {
      "text/plain": [
       "samsung galaxy tab e 7 wi-fi                   1\n",
       "samsung galaxy s6 flat                         1\n",
       "samsung galaxy a9 pro 2016                     1\n",
       "samsung galaxy j7 2016 metal                   1\n",
       "samsung gear s2                                1\n",
       "sony xperia z2                                 1\n",
       "samsung galaxy j5 2016 metal                   1\n",
       "samsung galaxy s6 edge plus                    1\n",
       "samsung galaxy tab pro 10.1 wi-fi              1\n",
       "apple iphone 6 plus                            1\n",
       "apple iphone 6                                 1\n",
       "apple iphone 7 plus                            1\n",
       "ipad mini 3 wi-fi                              1\n",
       "samsung galaxy note 3 neo duos                 1\n",
       "samsung galaxy j5                              1\n",
       "ipad mini wi-fi                                1\n",
       "samsung galaxy j2 4g duos tv                   1\n",
       "lg  x screen                                   1\n",
       "apple iphone 5                                 1\n",
       "samsung galaxy mega duos                       1\n",
       "samsung galaxy tab 3 10.1 wi-fi + 3g           1\n",
       "apple iphone se                                1\n",
       "asus zenfone 3 max  32 gb                      1\n",
       "lg g3 stylus d690                              1\n",
       "motorola moto z2 force                         1\n",
       "lg g3 d855                                     1\n",
       "samsung galaxy s5                              1\n",
       "motorola moto g5s                              1\n",
       "samsung galaxy y duos                          1\n",
       "samsung galaxy tab 4 10.1 wi-fi                1\n",
       "                                              ..\n",
       "samsung galaxy s4 mini duos                    1\n",
       "motorola moto e2 3g dual                       1\n",
       "lg k10 novo                                    1\n",
       "ipad mini 4 wi-fi                              1\n",
       "samsung galaxy note 3                          1\n",
       "samsung galaxy s5 duos                         1\n",
       "motorola moto g4 play dtv                      1\n",
       "samsung galaxy a5                              1\n",
       "samsung galaxy note 8                          1\n",
       "samsung galaxy j7 neo                          1\n",
       "samsung galaxy j7                              1\n",
       "samsung galaxy tab e 9.6 wi-fi + 3g            1\n",
       "samsung galaxy a5 2017                         1\n",
       "samsung galaxy tab s2 9.7 wi-fi + 4g           1\n",
       "apple iphone 4s                                1\n",
       "apple iphone 4g                                1\n",
       "asus zenfone 2                                 1\n",
       "motorola moto z power edition                  1\n",
       "samsung galaxy young 2 duos tv                 1\n",
       "samsung galaxy a5 2016                         1\n",
       "lg l prime d337                                1\n",
       "quantum go 3g                                  1\n",
       "samsung galaxy e5 4g duos                      1\n",
       "ipad 4 wi-fi                                   1\n",
       "samsung galaxy tab a com s pen 8 wi-fi + 4g    1\n",
       "ipad air wi-fi                                 1\n",
       "samsung galaxy a7 2017                         1\n",
       "asus zenfone 2 laser                           1\n",
       "quantum go 4g                                  1\n",
       "apple iphone 8                                 1\n",
       "Name: model, Length: 199, dtype: int64"
      ]
     },
     "execution_count": 31,
     "metadata": {},
     "output_type": "execute_result"
    }
   ],
   "source": [
    "df_events2['model'].value_counts()"
   ]
  },
  {
   "cell_type": "code",
   "execution_count": 32,
   "metadata": {},
   "outputs": [],
   "source": [
    "celulares_con_precio = pd.merge(df_events2,df_phone, on = 'model', how = 'left')"
   ]
  },
  {
   "cell_type": "code",
   "execution_count": 33,
   "metadata": {
    "scrolled": true
   },
   "outputs": [],
   "source": [
    "celulares_con_precio = celulares_con_precio.fillna(0)"
   ]
  },
  {
   "cell_type": "code",
   "execution_count": 34,
   "metadata": {},
   "outputs": [],
   "source": [
    "celulares_con_precio['model'] = celulares_con_precio['model'].apply(borrarApple)"
   ]
  },
  {
   "cell_type": "code",
   "execution_count": 35,
   "metadata": {
    "scrolled": true
   },
   "outputs": [
    {
     "data": {
      "text/html": [
       "<div>\n",
       "<style scoped>\n",
       "    .dataframe tbody tr th:only-of-type {\n",
       "        vertical-align: middle;\n",
       "    }\n",
       "\n",
       "    .dataframe tbody tr th {\n",
       "        vertical-align: top;\n",
       "    }\n",
       "\n",
       "    .dataframe thead th {\n",
       "        text-align: right;\n",
       "    }\n",
       "</style>\n",
       "<table border=\"1\" class=\"dataframe\">\n",
       "  <thead>\n",
       "    <tr style=\"text-align: right;\">\n",
       "      <th></th>\n",
       "      <th>model</th>\n",
       "      <th>approx_price_EUR</th>\n",
       "    </tr>\n",
       "  </thead>\n",
       "  <tbody>\n",
       "    <tr>\n",
       "      <th>0</th>\n",
       "      <td>samsung galaxy j7 prime</td>\n",
       "      <td>280.0</td>\n",
       "    </tr>\n",
       "    <tr>\n",
       "      <th>1</th>\n",
       "      <td>iphone 5s</td>\n",
       "      <td>330.0</td>\n",
       "    </tr>\n",
       "    <tr>\n",
       "      <th>2</th>\n",
       "      <td>iphone 6s</td>\n",
       "      <td>620.0</td>\n",
       "    </tr>\n",
       "    <tr>\n",
       "      <th>3</th>\n",
       "      <td>iphone 7</td>\n",
       "      <td>760.0</td>\n",
       "    </tr>\n",
       "    <tr>\n",
       "      <th>4</th>\n",
       "      <td>lg g4 h818p</td>\n",
       "      <td>0.0</td>\n",
       "    </tr>\n",
       "    <tr>\n",
       "      <th>5</th>\n",
       "      <td>iphone 6</td>\n",
       "      <td>540.0</td>\n",
       "    </tr>\n",
       "    <tr>\n",
       "      <th>6</th>\n",
       "      <td>iphone 6 plus</td>\n",
       "      <td>700.0</td>\n",
       "    </tr>\n",
       "    <tr>\n",
       "      <th>7</th>\n",
       "      <td>motorola moto g5 plus</td>\n",
       "      <td>280.0</td>\n",
       "    </tr>\n",
       "    <tr>\n",
       "      <th>8</th>\n",
       "      <td>motorola moto g4 plus</td>\n",
       "      <td>230.0</td>\n",
       "    </tr>\n",
       "    <tr>\n",
       "      <th>9</th>\n",
       "      <td>ipad air wi-fi</td>\n",
       "      <td>0.0</td>\n",
       "    </tr>\n",
       "    <tr>\n",
       "      <th>10</th>\n",
       "      <td>samsung galaxy s6 flat</td>\n",
       "      <td>0.0</td>\n",
       "    </tr>\n",
       "    <tr>\n",
       "      <th>11</th>\n",
       "      <td>samsung galaxy s8 plus</td>\n",
       "      <td>0.0</td>\n",
       "    </tr>\n",
       "    <tr>\n",
       "      <th>12</th>\n",
       "      <td>samsung galaxy s5</td>\n",
       "      <td>360.0</td>\n",
       "    </tr>\n",
       "    <tr>\n",
       "      <th>13</th>\n",
       "      <td>iphone se</td>\n",
       "      <td>440.0</td>\n",
       "    </tr>\n",
       "    <tr>\n",
       "      <th>14</th>\n",
       "      <td>samsung galaxy s7</td>\n",
       "      <td>500.0</td>\n",
       "    </tr>\n",
       "    <tr>\n",
       "      <th>15</th>\n",
       "      <td>motorola moto x2</td>\n",
       "      <td>0.0</td>\n",
       "    </tr>\n",
       "    <tr>\n",
       "      <th>16</th>\n",
       "      <td>motorola moto g3 4g</td>\n",
       "      <td>0.0</td>\n",
       "    </tr>\n",
       "    <tr>\n",
       "      <th>17</th>\n",
       "      <td>motorola moto x play 4g dual</td>\n",
       "      <td>0.0</td>\n",
       "    </tr>\n",
       "    <tr>\n",
       "      <th>18</th>\n",
       "      <td>motorola moto g4 play</td>\n",
       "      <td>140.0</td>\n",
       "    </tr>\n",
       "    <tr>\n",
       "      <th>19</th>\n",
       "      <td>samsung galaxy j5</td>\n",
       "      <td>160.0</td>\n",
       "    </tr>\n",
       "    <tr>\n",
       "      <th>20</th>\n",
       "      <td>samsung galaxy s5 new edition duos</td>\n",
       "      <td>0.0</td>\n",
       "    </tr>\n",
       "    <tr>\n",
       "      <th>21</th>\n",
       "      <td>motorola moto g3 hdtv</td>\n",
       "      <td>0.0</td>\n",
       "    </tr>\n",
       "    <tr>\n",
       "      <th>22</th>\n",
       "      <td>motorola moto g5</td>\n",
       "      <td>0.0</td>\n",
       "    </tr>\n",
       "    <tr>\n",
       "      <th>23</th>\n",
       "      <td>samsung galaxy j3</td>\n",
       "      <td>0.0</td>\n",
       "    </tr>\n",
       "    <tr>\n",
       "      <th>24</th>\n",
       "      <td>samsung galaxy s6 edge</td>\n",
       "      <td>420.0</td>\n",
       "    </tr>\n",
       "    <tr>\n",
       "      <th>25</th>\n",
       "      <td>samsung galaxy note 8</td>\n",
       "      <td>0.0</td>\n",
       "    </tr>\n",
       "    <tr>\n",
       "      <th>26</th>\n",
       "      <td>sony xperia z2</td>\n",
       "      <td>260.0</td>\n",
       "    </tr>\n",
       "    <tr>\n",
       "      <th>27</th>\n",
       "      <td>motorola moto g2 3g dual</td>\n",
       "      <td>0.0</td>\n",
       "    </tr>\n",
       "    <tr>\n",
       "      <th>28</th>\n",
       "      <td>motorola moto z play</td>\n",
       "      <td>350.0</td>\n",
       "    </tr>\n",
       "    <tr>\n",
       "      <th>29</th>\n",
       "      <td>samsung galaxy s8</td>\n",
       "      <td>700.0</td>\n",
       "    </tr>\n",
       "    <tr>\n",
       "      <th>...</th>\n",
       "      <td>...</td>\n",
       "      <td>...</td>\n",
       "    </tr>\n",
       "    <tr>\n",
       "      <th>169</th>\n",
       "      <td>asus zenfone 6</td>\n",
       "      <td>0.0</td>\n",
       "    </tr>\n",
       "    <tr>\n",
       "      <th>170</th>\n",
       "      <td>ipad mini 2 wi-fi</td>\n",
       "      <td>0.0</td>\n",
       "    </tr>\n",
       "    <tr>\n",
       "      <th>171</th>\n",
       "      <td>samsung galaxy gran prime duos</td>\n",
       "      <td>0.0</td>\n",
       "    </tr>\n",
       "    <tr>\n",
       "      <th>172</th>\n",
       "      <td>asus zenfone 5</td>\n",
       "      <td>0.0</td>\n",
       "    </tr>\n",
       "    <tr>\n",
       "      <th>173</th>\n",
       "      <td>samsung gear s3 frontier</td>\n",
       "      <td>350.0</td>\n",
       "    </tr>\n",
       "    <tr>\n",
       "      <th>174</th>\n",
       "      <td>samsung galaxy tab s2 9.7 wi-fi + 4g</td>\n",
       "      <td>0.0</td>\n",
       "    </tr>\n",
       "    <tr>\n",
       "      <th>175</th>\n",
       "      <td>samsung galaxy mega duos</td>\n",
       "      <td>0.0</td>\n",
       "    </tr>\n",
       "    <tr>\n",
       "      <th>176</th>\n",
       "      <td>samsung galaxy tab e 9.6 wi-fi</td>\n",
       "      <td>0.0</td>\n",
       "    </tr>\n",
       "    <tr>\n",
       "      <th>177</th>\n",
       "      <td>ipad mini 2 wi-fi + 4g</td>\n",
       "      <td>0.0</td>\n",
       "    </tr>\n",
       "    <tr>\n",
       "      <th>178</th>\n",
       "      <td>ipad 3 wi-fi + 4g</td>\n",
       "      <td>0.0</td>\n",
       "    </tr>\n",
       "    <tr>\n",
       "      <th>179</th>\n",
       "      <td>asus zenfone 2 deluxe</td>\n",
       "      <td>0.0</td>\n",
       "    </tr>\n",
       "    <tr>\n",
       "      <th>180</th>\n",
       "      <td>motorola moto g1 4g</td>\n",
       "      <td>0.0</td>\n",
       "    </tr>\n",
       "    <tr>\n",
       "      <th>181</th>\n",
       "      <td>samsung gear s3 classic</td>\n",
       "      <td>390.0</td>\n",
       "    </tr>\n",
       "    <tr>\n",
       "      <th>182</th>\n",
       "      <td>quantum muv up</td>\n",
       "      <td>0.0</td>\n",
       "    </tr>\n",
       "    <tr>\n",
       "      <th>183</th>\n",
       "      <td>samsung galaxy tab e 9.6 wi-fi + 3g</td>\n",
       "      <td>0.0</td>\n",
       "    </tr>\n",
       "    <tr>\n",
       "      <th>184</th>\n",
       "      <td>ipad 2 wi-fi</td>\n",
       "      <td>0.0</td>\n",
       "    </tr>\n",
       "    <tr>\n",
       "      <th>185</th>\n",
       "      <td>asus zenfone 2</td>\n",
       "      <td>0.0</td>\n",
       "    </tr>\n",
       "    <tr>\n",
       "      <th>186</th>\n",
       "      <td>samsung galaxy tab e 7 wi-fi + 3g</td>\n",
       "      <td>0.0</td>\n",
       "    </tr>\n",
       "    <tr>\n",
       "      <th>187</th>\n",
       "      <td>asus zenfone selfie</td>\n",
       "      <td>0.0</td>\n",
       "    </tr>\n",
       "    <tr>\n",
       "      <th>188</th>\n",
       "      <td>asus zenfone go</td>\n",
       "      <td>0.0</td>\n",
       "    </tr>\n",
       "    <tr>\n",
       "      <th>189</th>\n",
       "      <td>asus zenfone 2 laser</td>\n",
       "      <td>0.0</td>\n",
       "    </tr>\n",
       "    <tr>\n",
       "      <th>190</th>\n",
       "      <td>asus live</td>\n",
       "      <td>0.0</td>\n",
       "    </tr>\n",
       "    <tr>\n",
       "      <th>191</th>\n",
       "      <td>quantum go 3g</td>\n",
       "      <td>0.0</td>\n",
       "    </tr>\n",
       "    <tr>\n",
       "      <th>192</th>\n",
       "      <td>samsung galaxy s3 neo duos i9300i</td>\n",
       "      <td>0.0</td>\n",
       "    </tr>\n",
       "    <tr>\n",
       "      <th>193</th>\n",
       "      <td>samsung galaxy pocket 2 duos</td>\n",
       "      <td>0.0</td>\n",
       "    </tr>\n",
       "    <tr>\n",
       "      <th>194</th>\n",
       "      <td>samsung galaxy young 2 duos tv</td>\n",
       "      <td>0.0</td>\n",
       "    </tr>\n",
       "    <tr>\n",
       "      <th>195</th>\n",
       "      <td>ipad mini 4 wi-fi + 4g</td>\n",
       "      <td>0.0</td>\n",
       "    </tr>\n",
       "    <tr>\n",
       "      <th>196</th>\n",
       "      <td>motorola moto e1</td>\n",
       "      <td>0.0</td>\n",
       "    </tr>\n",
       "    <tr>\n",
       "      <th>197</th>\n",
       "      <td>samsung galaxy tab s 10.5 wi-fi</td>\n",
       "      <td>0.0</td>\n",
       "    </tr>\n",
       "    <tr>\n",
       "      <th>198</th>\n",
       "      <td>samsung galaxy tab 4 10.1 wi-fi</td>\n",
       "      <td>0.0</td>\n",
       "    </tr>\n",
       "  </tbody>\n",
       "</table>\n",
       "<p>199 rows × 2 columns</p>\n",
       "</div>"
      ],
      "text/plain": [
       "                                    model  approx_price_EUR\n",
       "0                 samsung galaxy j7 prime             280.0\n",
       "1                               iphone 5s             330.0\n",
       "2                               iphone 6s             620.0\n",
       "3                                iphone 7             760.0\n",
       "4                             lg g4 h818p               0.0\n",
       "5                                iphone 6             540.0\n",
       "6                           iphone 6 plus             700.0\n",
       "7                   motorola moto g5 plus             280.0\n",
       "8                   motorola moto g4 plus             230.0\n",
       "9                          ipad air wi-fi               0.0\n",
       "10                 samsung galaxy s6 flat               0.0\n",
       "11                 samsung galaxy s8 plus               0.0\n",
       "12                      samsung galaxy s5             360.0\n",
       "13                              iphone se             440.0\n",
       "14                      samsung galaxy s7             500.0\n",
       "15                       motorola moto x2               0.0\n",
       "16                    motorola moto g3 4g               0.0\n",
       "17           motorola moto x play 4g dual               0.0\n",
       "18                  motorola moto g4 play             140.0\n",
       "19                      samsung galaxy j5             160.0\n",
       "20    samsung galaxy s5 new edition duos                0.0\n",
       "21                  motorola moto g3 hdtv               0.0\n",
       "22                      motorola moto g5                0.0\n",
       "23                      samsung galaxy j3               0.0\n",
       "24                 samsung galaxy s6 edge             420.0\n",
       "25                  samsung galaxy note 8               0.0\n",
       "26                         sony xperia z2             260.0\n",
       "27               motorola moto g2 3g dual               0.0\n",
       "28                   motorola moto z play             350.0\n",
       "29                      samsung galaxy s8             700.0\n",
       "..                                    ...               ...\n",
       "169                        asus zenfone 6               0.0\n",
       "170                     ipad mini 2 wi-fi               0.0\n",
       "171        samsung galaxy gran prime duos               0.0\n",
       "172                        asus zenfone 5               0.0\n",
       "173              samsung gear s3 frontier             350.0\n",
       "174  samsung galaxy tab s2 9.7 wi-fi + 4g               0.0\n",
       "175              samsung galaxy mega duos               0.0\n",
       "176        samsung galaxy tab e 9.6 wi-fi               0.0\n",
       "177                ipad mini 2 wi-fi + 4g               0.0\n",
       "178                     ipad 3 wi-fi + 4g               0.0\n",
       "179                 asus zenfone 2 deluxe               0.0\n",
       "180                   motorola moto g1 4g               0.0\n",
       "181               samsung gear s3 classic             390.0\n",
       "182                        quantum muv up               0.0\n",
       "183   samsung galaxy tab e 9.6 wi-fi + 3g               0.0\n",
       "184                          ipad 2 wi-fi               0.0\n",
       "185                        asus zenfone 2               0.0\n",
       "186     samsung galaxy tab e 7 wi-fi + 3g               0.0\n",
       "187                   asus zenfone selfie               0.0\n",
       "188                       asus zenfone go               0.0\n",
       "189                  asus zenfone 2 laser               0.0\n",
       "190                             asus live               0.0\n",
       "191                         quantum go 3g               0.0\n",
       "192     samsung galaxy s3 neo duos i9300i               0.0\n",
       "193          samsung galaxy pocket 2 duos               0.0\n",
       "194        samsung galaxy young 2 duos tv               0.0\n",
       "195                ipad mini 4 wi-fi + 4g               0.0\n",
       "196                      motorola moto e1               0.0\n",
       "197       samsung galaxy tab s 10.5 wi-fi               0.0\n",
       "198       samsung galaxy tab 4 10.1 wi-fi               0.0\n",
       "\n",
       "[199 rows x 2 columns]"
      ]
     },
     "execution_count": 35,
     "metadata": {},
     "output_type": "execute_result"
    }
   ],
   "source": [
    "celulares_con_precio"
   ]
  },
  {
   "cell_type": "code",
   "execution_count": 42,
   "metadata": {},
   "outputs": [],
   "source": [
    "df_events['model'] = df_events['model'].str.lower()\n",
    "df_events3 = pd.merge(df_events,celulares_con_precio,on = 'model',how = 'inner')"
   ]
  },
  {
   "cell_type": "code",
   "execution_count": 37,
   "metadata": {},
   "outputs": [
    {
     "data": {
      "text/plain": [
       "(38255, 24)"
      ]
     },
     "execution_count": 37,
     "metadata": {},
     "output_type": "execute_result"
    }
   ],
   "source": [
    "df_events3.drop_duplicates('person').shape"
   ]
  },
  {
   "cell_type": "code",
   "execution_count": 43,
   "metadata": {},
   "outputs": [],
   "source": [
    "df_events3 = df_events3[df_events3['event'] == 'viewed product']"
   ]
  },
  {
   "cell_type": "code",
   "execution_count": 48,
   "metadata": {},
   "outputs": [],
   "source": [
    "df_events3 = df_events3[['person','approx_price_EUR']].groupby(['person']).sum()"
   ]
  },
  {
   "cell_type": "code",
   "execution_count": 52,
   "metadata": {},
   "outputs": [],
   "source": [
    "df_events3.reset_index(inplace = True)"
   ]
  },
  {
   "cell_type": "code",
   "execution_count": 54,
   "metadata": {},
   "outputs": [],
   "source": [
    "df_events3 = pd.merge(df_todas_las_personas,df_events3,how = 'left', on = 'person').fillna(0)"
   ]
  },
  {
   "cell_type": "code",
   "execution_count": 61,
   "metadata": {},
   "outputs": [
    {
     "data": {
      "text/html": [
       "<div>\n",
       "<style scoped>\n",
       "    .dataframe tbody tr th:only-of-type {\n",
       "        vertical-align: middle;\n",
       "    }\n",
       "\n",
       "    .dataframe tbody tr th {\n",
       "        vertical-align: top;\n",
       "    }\n",
       "\n",
       "    .dataframe thead th {\n",
       "        text-align: right;\n",
       "    }\n",
       "</style>\n",
       "<table border=\"1\" class=\"dataframe\">\n",
       "  <thead>\n",
       "    <tr style=\"text-align: right;\">\n",
       "      <th></th>\n",
       "      <th>person</th>\n",
       "      <th>approx_price_EUR</th>\n",
       "    </tr>\n",
       "  </thead>\n",
       "  <tbody>\n",
       "    <tr>\n",
       "      <th>0</th>\n",
       "      <td>4886f805</td>\n",
       "      <td>1120.0</td>\n",
       "    </tr>\n",
       "    <tr>\n",
       "      <th>1</th>\n",
       "      <td>ad93850f</td>\n",
       "      <td>6830.0</td>\n",
       "    </tr>\n",
       "    <tr>\n",
       "      <th>2</th>\n",
       "      <td>0297fc1e</td>\n",
       "      <td>236130.0</td>\n",
       "    </tr>\n",
       "    <tr>\n",
       "      <th>3</th>\n",
       "      <td>2d681dd8</td>\n",
       "      <td>5710.0</td>\n",
       "    </tr>\n",
       "    <tr>\n",
       "      <th>4</th>\n",
       "      <td>cccea85e</td>\n",
       "      <td>105710.0</td>\n",
       "    </tr>\n",
       "  </tbody>\n",
       "</table>\n",
       "</div>"
      ],
      "text/plain": [
       "     person  approx_price_EUR\n",
       "0  4886f805            1120.0\n",
       "1  ad93850f            6830.0\n",
       "2  0297fc1e          236130.0\n",
       "3  2d681dd8            5710.0\n",
       "4  cccea85e          105710.0"
      ]
     },
     "execution_count": 61,
     "metadata": {},
     "output_type": "execute_result"
    }
   ],
   "source": [
    "df_events3.head()"
   ]
  },
  {
   "cell_type": "code",
   "execution_count": 64,
   "metadata": {},
   "outputs": [],
   "source": [
    "df_events_util = df_events.drop_duplicates(['person','model'])"
   ]
  },
  {
   "cell_type": "code",
   "execution_count": 65,
   "metadata": {},
   "outputs": [],
   "source": [
    "df_cant_visito = (df_events_util[df_events_util['event'] == 'viewed product'])[['person','model']].groupby('person').count()"
   ]
  },
  {
   "cell_type": "code",
   "execution_count": 69,
   "metadata": {
    "scrolled": true
   },
   "outputs": [],
   "source": [
    "df_cant_visito.reset_index(inplace = True)"
   ]
  },
  {
   "cell_type": "code",
   "execution_count": 70,
   "metadata": {},
   "outputs": [
    {
     "data": {
      "text/html": [
       "<div>\n",
       "<style scoped>\n",
       "    .dataframe tbody tr th:only-of-type {\n",
       "        vertical-align: middle;\n",
       "    }\n",
       "\n",
       "    .dataframe tbody tr th {\n",
       "        vertical-align: top;\n",
       "    }\n",
       "\n",
       "    .dataframe thead th {\n",
       "        text-align: right;\n",
       "    }\n",
       "</style>\n",
       "<table border=\"1\" class=\"dataframe\">\n",
       "  <thead>\n",
       "    <tr style=\"text-align: right;\">\n",
       "      <th></th>\n",
       "      <th>person</th>\n",
       "      <th>model</th>\n",
       "    </tr>\n",
       "  </thead>\n",
       "  <tbody>\n",
       "    <tr>\n",
       "      <th>0</th>\n",
       "      <td>4886f805</td>\n",
       "      <td>1.0</td>\n",
       "    </tr>\n",
       "    <tr>\n",
       "      <th>1</th>\n",
       "      <td>ad93850f</td>\n",
       "      <td>3.0</td>\n",
       "    </tr>\n",
       "    <tr>\n",
       "      <th>2</th>\n",
       "      <td>0297fc1e</td>\n",
       "      <td>15.0</td>\n",
       "    </tr>\n",
       "    <tr>\n",
       "      <th>3</th>\n",
       "      <td>2d681dd8</td>\n",
       "      <td>2.0</td>\n",
       "    </tr>\n",
       "    <tr>\n",
       "      <th>4</th>\n",
       "      <td>cccea85e</td>\n",
       "      <td>57.0</td>\n",
       "    </tr>\n",
       "  </tbody>\n",
       "</table>\n",
       "</div>"
      ],
      "text/plain": [
       "     person  model\n",
       "0  4886f805    1.0\n",
       "1  ad93850f    3.0\n",
       "2  0297fc1e   15.0\n",
       "3  2d681dd8    2.0\n",
       "4  cccea85e   57.0"
      ]
     },
     "execution_count": 70,
     "metadata": {},
     "output_type": "execute_result"
    }
   ],
   "source": [
    "df_cant_visito = pd.merge(df_todas_las_personas,df_cant_visito, how = 'left', on = 'person').fillna(0)\n",
    "df_cant_visito.head()"
   ]
  },
  {
   "cell_type": "code",
   "execution_count": 73,
   "metadata": {},
   "outputs": [],
   "source": [
    "df_cant_visito.columns = ['person','cantidadCelularesDistintosVisitados']"
   ]
  },
  {
   "cell_type": "code",
   "execution_count": 80,
   "metadata": {
    "scrolled": true
   },
   "outputs": [
    {
     "data": {
      "text/html": [
       "<div>\n",
       "<style scoped>\n",
       "    .dataframe tbody tr th:only-of-type {\n",
       "        vertical-align: middle;\n",
       "    }\n",
       "\n",
       "    .dataframe tbody tr th {\n",
       "        vertical-align: top;\n",
       "    }\n",
       "\n",
       "    .dataframe thead th {\n",
       "        text-align: right;\n",
       "    }\n",
       "</style>\n",
       "<table border=\"1\" class=\"dataframe\">\n",
       "  <thead>\n",
       "    <tr style=\"text-align: right;\">\n",
       "      <th></th>\n",
       "      <th>person</th>\n",
       "      <th>cantidadCelularesDistintosVisitados</th>\n",
       "    </tr>\n",
       "  </thead>\n",
       "  <tbody>\n",
       "    <tr>\n",
       "      <th>0</th>\n",
       "      <td>4886f805</td>\n",
       "      <td>1.0</td>\n",
       "    </tr>\n",
       "    <tr>\n",
       "      <th>1</th>\n",
       "      <td>ad93850f</td>\n",
       "      <td>3.0</td>\n",
       "    </tr>\n",
       "    <tr>\n",
       "      <th>2</th>\n",
       "      <td>0297fc1e</td>\n",
       "      <td>15.0</td>\n",
       "    </tr>\n",
       "    <tr>\n",
       "      <th>3</th>\n",
       "      <td>2d681dd8</td>\n",
       "      <td>2.0</td>\n",
       "    </tr>\n",
       "    <tr>\n",
       "      <th>4</th>\n",
       "      <td>cccea85e</td>\n",
       "      <td>57.0</td>\n",
       "    </tr>\n",
       "  </tbody>\n",
       "</table>\n",
       "</div>"
      ],
      "text/plain": [
       "     person  cantidadCelularesDistintosVisitados\n",
       "0  4886f805                                  1.0\n",
       "1  ad93850f                                  3.0\n",
       "2  0297fc1e                                 15.0\n",
       "3  2d681dd8                                  2.0\n",
       "4  cccea85e                                 57.0"
      ]
     },
     "execution_count": 80,
     "metadata": {},
     "output_type": "execute_result"
    }
   ],
   "source": [
    "df_cant_visito.head()"
   ]
  },
  {
   "cell_type": "code",
   "execution_count": 81,
   "metadata": {},
   "outputs": [],
   "source": [
    "df_events3.columns = ['person','sumaDePreciosCelularesVisitados']"
   ]
  },
  {
   "cell_type": "code",
   "execution_count": 83,
   "metadata": {},
   "outputs": [
    {
     "data": {
      "text/html": [
       "<div>\n",
       "<style scoped>\n",
       "    .dataframe tbody tr th:only-of-type {\n",
       "        vertical-align: middle;\n",
       "    }\n",
       "\n",
       "    .dataframe tbody tr th {\n",
       "        vertical-align: top;\n",
       "    }\n",
       "\n",
       "    .dataframe thead th {\n",
       "        text-align: right;\n",
       "    }\n",
       "</style>\n",
       "<table border=\"1\" class=\"dataframe\">\n",
       "  <thead>\n",
       "    <tr style=\"text-align: right;\">\n",
       "      <th></th>\n",
       "      <th>person</th>\n",
       "      <th>sumaDePreciosCelularesVisitados</th>\n",
       "    </tr>\n",
       "  </thead>\n",
       "  <tbody>\n",
       "    <tr>\n",
       "      <th>0</th>\n",
       "      <td>4886f805</td>\n",
       "      <td>1120.0</td>\n",
       "    </tr>\n",
       "    <tr>\n",
       "      <th>1</th>\n",
       "      <td>ad93850f</td>\n",
       "      <td>6830.0</td>\n",
       "    </tr>\n",
       "    <tr>\n",
       "      <th>2</th>\n",
       "      <td>0297fc1e</td>\n",
       "      <td>236130.0</td>\n",
       "    </tr>\n",
       "    <tr>\n",
       "      <th>3</th>\n",
       "      <td>2d681dd8</td>\n",
       "      <td>5710.0</td>\n",
       "    </tr>\n",
       "    <tr>\n",
       "      <th>4</th>\n",
       "      <td>cccea85e</td>\n",
       "      <td>105710.0</td>\n",
       "    </tr>\n",
       "  </tbody>\n",
       "</table>\n",
       "</div>"
      ],
      "text/plain": [
       "     person  sumaDePreciosCelularesVisitados\n",
       "0  4886f805                           1120.0\n",
       "1  ad93850f                           6830.0\n",
       "2  0297fc1e                         236130.0\n",
       "3  2d681dd8                           5710.0\n",
       "4  cccea85e                         105710.0"
      ]
     },
     "execution_count": 83,
     "metadata": {},
     "output_type": "execute_result"
    }
   ],
   "source": [
    "df_events3.head()"
   ]
  },
  {
   "cell_type": "code",
   "execution_count": 84,
   "metadata": {},
   "outputs": [],
   "source": [
    "df_train = pd.merge(df_events3,df_cant_visito,on = 'person', how = 'inner')"
   ]
  },
  {
   "cell_type": "code",
   "execution_count": 86,
   "metadata": {},
   "outputs": [
    {
     "data": {
      "text/html": [
       "<div>\n",
       "<style scoped>\n",
       "    .dataframe tbody tr th:only-of-type {\n",
       "        vertical-align: middle;\n",
       "    }\n",
       "\n",
       "    .dataframe tbody tr th {\n",
       "        vertical-align: top;\n",
       "    }\n",
       "\n",
       "    .dataframe thead th {\n",
       "        text-align: right;\n",
       "    }\n",
       "</style>\n",
       "<table border=\"1\" class=\"dataframe\">\n",
       "  <thead>\n",
       "    <tr style=\"text-align: right;\">\n",
       "      <th></th>\n",
       "      <th>person</th>\n",
       "      <th>sumaDePreciosCelularesVisitados</th>\n",
       "      <th>cantidadCelularesDistintosVisitados</th>\n",
       "    </tr>\n",
       "  </thead>\n",
       "  <tbody>\n",
       "    <tr>\n",
       "      <th>0</th>\n",
       "      <td>4886f805</td>\n",
       "      <td>1120.0</td>\n",
       "      <td>1.0</td>\n",
       "    </tr>\n",
       "    <tr>\n",
       "      <th>1</th>\n",
       "      <td>ad93850f</td>\n",
       "      <td>6830.0</td>\n",
       "      <td>3.0</td>\n",
       "    </tr>\n",
       "    <tr>\n",
       "      <th>2</th>\n",
       "      <td>0297fc1e</td>\n",
       "      <td>236130.0</td>\n",
       "      <td>15.0</td>\n",
       "    </tr>\n",
       "    <tr>\n",
       "      <th>3</th>\n",
       "      <td>2d681dd8</td>\n",
       "      <td>5710.0</td>\n",
       "      <td>2.0</td>\n",
       "    </tr>\n",
       "    <tr>\n",
       "      <th>4</th>\n",
       "      <td>cccea85e</td>\n",
       "      <td>105710.0</td>\n",
       "      <td>57.0</td>\n",
       "    </tr>\n",
       "  </tbody>\n",
       "</table>\n",
       "</div>"
      ],
      "text/plain": [
       "     person  sumaDePreciosCelularesVisitados  \\\n",
       "0  4886f805                           1120.0   \n",
       "1  ad93850f                           6830.0   \n",
       "2  0297fc1e                         236130.0   \n",
       "3  2d681dd8                           5710.0   \n",
       "4  cccea85e                         105710.0   \n",
       "\n",
       "   cantidadCelularesDistintosVisitados  \n",
       "0                                  1.0  \n",
       "1                                  3.0  \n",
       "2                                 15.0  \n",
       "3                                  2.0  \n",
       "4                                 57.0  "
      ]
     },
     "execution_count": 86,
     "metadata": {},
     "output_type": "execute_result"
    }
   ],
   "source": [
    "df_train.head()"
   ]
  },
  {
   "cell_type": "code",
   "execution_count": 89,
   "metadata": {},
   "outputs": [],
   "source": [
    "df_train.to_csv('Santi - FeaturePreciosCelularesYExtra',index=False)"
   ]
  }
 ],
 "metadata": {
  "kernelspec": {
   "display_name": "Python 3",
   "language": "python",
   "name": "python3"
  },
  "language_info": {
   "codemirror_mode": {
    "name": "ipython",
    "version": 3
   },
   "file_extension": ".py",
   "mimetype": "text/x-python",
   "name": "python",
   "nbconvert_exporter": "python",
   "pygments_lexer": "ipython3",
   "version": "3.6.5"
  }
 },
 "nbformat": 4,
 "nbformat_minor": 2
}
